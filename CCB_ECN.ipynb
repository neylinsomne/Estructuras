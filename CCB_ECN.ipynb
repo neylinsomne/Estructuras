{
  "nbformat": 4,
  "nbformat_minor": 0,
  "metadata": {
    "colab": {
      "provenance": [],
      "collapsed_sections": [
        "JakJ2Dlmv2Ue"
      ],
      "authorship_tag": "ABX9TyNQRdJm78rTB8OM0ngRFQf8",
      "include_colab_link": true
    },
    "kernelspec": {
      "name": "python3",
      "display_name": "Python 3"
    },
    "language_info": {
      "name": "python"
    }
  },
  "cells": [
    {
      "cell_type": "markdown",
      "metadata": {
        "id": "view-in-github",
        "colab_type": "text"
      },
      "source": [
        "<a href=\"https://colab.research.google.com/github/neylinsomne/Estructuras/blob/main/CCB_ECN.ipynb\" target=\"_parent\"><img src=\"https://colab.research.google.com/assets/colab-badge.svg\" alt=\"Open In Colab\"/></a>"
      ]
    },
    {
      "cell_type": "markdown",
      "source": [
        "#CARGA DOCUMENTOS:"
      ],
      "metadata": {
        "id": "oNqoJVHLgV5n"
      }
    },
    {
      "cell_type": "code",
      "execution_count": null,
      "metadata": {
        "id": "4tJeZzI3cT3K"
      },
      "outputs": [],
      "source": [
        "import pandas as pd\n",
        "import numpy as np\n",
        "import matplotlib.pyplot as plt\n",
        "import seaborn as sns"
      ]
    },
    {
      "cell_type": "code",
      "source": [
        "from google.colab import drive\n",
        "drive.mount('/content/drive')\n"
      ],
      "metadata": {
        "colab": {
          "base_uri": "https://localhost:8080/"
        },
        "id": "FgMu10BGgZ1e",
        "outputId": "aa464187-f243-4192-fb6d-aacf4f9ebd8f"
      },
      "execution_count": null,
      "outputs": [
        {
          "output_type": "stream",
          "name": "stdout",
          "text": [
            "Mounted at /content/drive\n"
          ]
        }
      ]
    },
    {
      "cell_type": "code",
      "source": [
        "df20 = pd.read_csv('/content/drive/My Drive/Datos_Concurso_CCB/ECN/ECNBase_2020.csv', encoding='latin1',low_memory=False)\n",
        "df21 = pd.read_csv('/content/drive/My Drive/Datos_Concurso_CCB/ECN/ECNBase_2021.csv', encoding='latin1',low_memory=False)\n",
        "df22 = pd.read_csv('/content/drive/My Drive/Datos_Concurso_CCB/ECN/ECNBase_2022.csv', encoding='latin1', low_memory=False)\n",
        "#df_dian= pd.read_xlsx('/content/drive/My Drive/Datos_Concurso_CCB/anexo-directorio-estadistico-empresas-2019-2021.xlsx')\n",
        "names = [ \"df20\", \"df21\", \"df22\"]\n",
        "dfs = {\n",
        "    \"df20\": df20,\n",
        "    \"df21\": df21,\n",
        "    \"df22\": df22,\n",
        "}"
      ],
      "metadata": {
        "id": "dISv-aTegbfd"
      },
      "execution_count": null,
      "outputs": []
    },
    {
      "cell_type": "markdown",
      "source": [
        "#Funciones"
      ],
      "metadata": {
        "id": "JakJ2Dlmv2Ue"
      }
    },
    {
      "cell_type": "code",
      "source": [
        "import string\n",
        "letras = list(string.ascii_uppercase)\n",
        "\n",
        "def letras_a_num(df, indicador_columnas):\n",
        "    mapeo = {letras[i]: str(i+1) for i in range(len(letras))}\n",
        "    fil_df = df.filter(regex='^'+ indicador_columnas, axis=1)\n",
        "    df.rename(columns={col: col[:-1] + mapeo[col[-1]] if col[-1] in letras else col for col in fil_df.columns}, inplace=True)\n",
        "    return df"
      ],
      "metadata": {
        "id": "WY6riNmav4aN"
      },
      "execution_count": null,
      "outputs": []
    },
    {
      "cell_type": "code",
      "source": [
        "for name, df in dfs.items():\n",
        "  x=df.filter(regex=\"^P412\")\n",
        "  print(name)\n",
        "  for column in x.columns:\n",
        "      unique_values = df[column].unique()\n",
        "      print(f\"Valores únicos de la columna {column}: {unique_values}\")"
      ],
      "metadata": {
        "colab": {
          "base_uri": "https://localhost:8080/"
        },
        "id": "90hCiNs9wo7L",
        "outputId": "d74f1fab-724a-4ca7-d2c0-e23aa9e90d24"
      },
      "execution_count": null,
      "outputs": [
        {
          "output_type": "stream",
          "name": "stdout",
          "text": [
            "df20\n",
            "df21\n",
            "df22\n"
          ]
        }
      ]
    },
    {
      "cell_type": "markdown",
      "source": [
        "#selección df20"
      ],
      "metadata": {
        "id": "nAdjnOfbieuf"
      }
    },
    {
      "cell_type": "code",
      "source": [
        "dfs[\"df20\"].columns"
      ],
      "metadata": {
        "colab": {
          "base_uri": "https://localhost:8080/"
        },
        "id": "KGQnssfRpqyS",
        "outputId": "a4592ef2-8584-486e-dcf1-cf7258b69ece"
      },
      "execution_count": null,
      "outputs": [
        {
          "output_type": "execute_result",
          "data": {
            "text/plain": [
              "Index(['cod_encuesta', 'Año', 'tamano', 'sector', 'p_p50_p50', 'p_p51_p51',\n",
              "       'p_p52_p52', 'p_p53_p53_1', 'p_p53_p53_2', 'p_p53_p53_3', 'p_p53_p53_4',\n",
              "       'p_p53_p53_5', 'p_p53_p53_6', 'p_p53_p53_7', 'p_p54_p54', 'p_p55_p55',\n",
              "       'modulo5', 'p_p56_p56', 'p_p57_p57', 'p_p58_p58', 'p_p59_p59_1',\n",
              "       'p_p59_p59_2', 'p_p59_p59_3', 'p_p59_p59_4', 'p_p59_p59_5',\n",
              "       'p_p59_p59_6', 'p_p59_p59_7', 'p_p60_p60', 'p_p61_p61', 'modulo6',\n",
              "       'p_p62_p62', 'p_p63_p63', 'modulo7', 'p_p64_p64', 'p_p65_p65',\n",
              "       'p_p66_p66', 'p_p67_p67_1', 'p_p67_p67_2', 'p_p67_p67_3', 'p_p67_p67_4',\n",
              "       'p_p67_p67_5', 'p_p67_p67_6', 'p_p68_p68', 'p_p69_p69_1', 'p_p69_p69_2',\n",
              "       'p_p69_p69_3', 'p_p69_p69_4', 'p_p69_p69_5', 'p_p70_p70', 'p_p71_p71',\n",
              "       'fexp'],\n",
              "      dtype='object')"
            ]
          },
          "metadata": {},
          "execution_count": 6
        }
      ]
    },
    {
      "cell_type": "markdown",
      "source": [
        "P64 En el marco de su actividad empresarial, Usted considera que BOGOTÁ es: (1-3) segura insegura parcialmente segura\n",
        "\n",
        "P65. Con respecto a la ciudad ¿Usted cree que la inseguridad durante el año 2019 con respecto al año 2018 (1-3) disminuyo , igual aumento\n",
        "\n",
        "P66. En el año 2019. ¿Su empresa fue víctima de algún delito? 1si 2 no\n",
        "\n",
        "P67. ¿De qué delito fue víctima? (Enc.: Pregunte por cada una de las opciones) sum Si1\n",
        "\n",
        "P68. ¿Denunció el delito ante las autoridades?\n",
        "\n",
        "P69. ¿A través de qué medio denunció?\n",
        "\n",
        "\n"
      ],
      "metadata": {
        "id": "6vYDSjdngYtm"
      }
    },
    {
      "cell_type": "markdown",
      "source": [
        "#selección df21"
      ],
      "metadata": {
        "id": "GfubLjobihvw"
      }
    },
    {
      "cell_type": "code",
      "source": [
        "dfs[\"df21\"].columns"
      ],
      "metadata": {
        "colab": {
          "base_uri": "https://localhost:8080/"
        },
        "id": "13_iOEQjpvWy",
        "outputId": "bf2850be-a4a8-4254-bece-ff3ed0d11433"
      },
      "execution_count": null,
      "outputs": [
        {
          "output_type": "execute_result",
          "data": {
            "text/plain": [
              "Index(['Id_Encuesta', 'Ao', 'SECTOR', 'TAMAO', 'P38_1', 'P38_2', 'P38_3',\n",
              "       'P38_4', 'P38_90', 'P39', 'P40', 'P41_1', 'P41_2', 'P41_3', 'P41_4',\n",
              "       'P41_OTRO', 'P42_1', 'P42_2', 'P42_3', 'P42_4', 'P42_5', 'P42_OTRO',\n",
              "       'P43', 'P44', 'P44A', 'P45', 'P46', 'P47', 'P48A', 'P48B', 'P48C',\n",
              "       'P49_1', 'P49_2', 'P49_3', 'P49_4', 'P50', 'P51', 'P51_OTRO', 'P52_1',\n",
              "       'P52_2', 'P52_3', 'P52_4', 'P52_90', 'P53', 'P54', 'P55', 'P56', 'P57A',\n",
              "       'P57B', 'P57C', 'P57D', 'P57E', 'P57F', 'P57G', 'P57H', 'P58', 'P59',\n",
              "       'fax expansin'],\n",
              "      dtype='object')"
            ]
          },
          "metadata": {},
          "execution_count": 7
        }
      ]
    },
    {
      "cell_type": "markdown",
      "source": [
        "P17.En el marco de su actividad empresarial, Usted considera que BOGOTÁ es (1-3) segura insegura parcialmente segura\n",
        "\n",
        "P18.Con respecto a la ciudad ¿Usted cree que la inseguridad durante el año 2021 con respecto al año 2020:  (1-3) disminuyo , igual aumento\n",
        "\n",
        "P19.En el año 2020. ¿Su empresa fue víctima de algún delito? Si1 no2\n",
        "\n",
        "P20.¿De qué delito fue víctima? (ENC: LEA, REGISTRE RESPUESTA POR CADA ATRIBUTO sumar 1si\n",
        "\n",
        "P21.¿Denunció el delito ante las autoridades? Si1 no2\n",
        "\n",
        "P22.¿A través de qué medio denunció? (sumar cada uno)"
      ],
      "metadata": {
        "id": "e2R3HvYig7RK"
      }
    },
    {
      "cell_type": "markdown",
      "source": [
        "Pero, comparando con el diccionario que se nos brindó se encontró esto:"
      ],
      "metadata": {
        "id": "ZmWyoyO2opIa"
      }
    },
    {
      "cell_type": "markdown",
      "source": [
        "**df21**:\n",
        "\n",
        "encuesta || la que en realidad es\n",
        "\n",
        "P22      -> p59\n",
        "\n",
        "P21      -> P58\n",
        "\n",
        "p20 -> p57\n",
        "\n",
        "P19 -> p56\n",
        "\n",
        "p18 -> p55\n",
        "\n",
        "p17 -> p54"
      ],
      "metadata": {
        "id": "0L3gj1jmos_C"
      }
    },
    {
      "cell_type": "markdown",
      "source": [
        "#selección df22"
      ],
      "metadata": {
        "id": "oJ1xxgvbijTP"
      }
    },
    {
      "cell_type": "code",
      "source": [
        "dfs[\"df22\"].columns"
      ],
      "metadata": {
        "colab": {
          "base_uri": "https://localhost:8080/"
        },
        "id": "JzeAWm6ApwQp",
        "outputId": "08cde7c2-1b61-469b-c637-055aaa2e2a60"
      },
      "execution_count": null,
      "outputs": [
        {
          "output_type": "execute_result",
          "data": {
            "text/plain": [
              "Index(['Id_encuesta', 'Año', 'F2', 'F3', 'F4', 'P41.1', 'P41.2', 'P41.3',\n",
              "       'P41.4', 'P42', 'P43', 'P44.1', 'P44.2', 'P44.3', 'P44.4', 'P45.1',\n",
              "       'P45.2', 'P45.3', 'P45.4', 'P45.5', 'P45.6', 'P46', 'P47', 'P47.A',\n",
              "       'P48', 'P49', 'P50', '51.1', '51.2', '51.3', 'P52', 'P53', 'P54',\n",
              "       'P55.1', 'P55.2', 'P55.3', 'P55.4', 'P56', 'P57', 'P58', 'P59.1',\n",
              "       'P59.2', 'P59.3', 'P59.4', 'P59.5', 'P59.6', 'P59.7', 'P59.8', 'P59.9',\n",
              "       'P60', 'P61', 'F.EXPANSIÓN'],\n",
              "      dtype='object')"
            ]
          },
          "metadata": {},
          "execution_count": 8
        }
      ]
    },
    {
      "cell_type": "markdown",
      "source": [
        "P56. En el marco de su actividad empresarial, Usted considera que BOGOTÁ es:  (1-3) segura insegura parcialmente segura\n",
        "\n",
        "P57. Con respecto a la ciudad ¿Usted cree que la inseguridad durante el año 2022 con respecto al año 2021: (1-3) disminuyo , igual aumento\n",
        "\n",
        "P58. En el año 2022. ¿Su empresa fue víctima de algún delito? Si1 no2\n",
        "\n",
        "P59. ¿De qué delito fue víctima?  sumar si1\n",
        "\n",
        "P60. ¿Denunció el delito ante las autoridades? si1 no2\n",
        "\n",
        "P61. ¿A través de qué medio denunció? medio sumar cada uno"
      ],
      "metadata": {
        "id": "xD1ieIIEhqLB"
      }
    },
    {
      "cell_type": "markdown",
      "source": [
        "#Estudio de las preguntas:"
      ],
      "metadata": {
        "id": "GIIrVQ7sp2CD"
      }
    },
    {
      "cell_type": "code",
      "source": [
        "\n",
        "dfs[\"df20\"]=dfs[\"df20\"][['sector','p_p64_p64','p_p65_p65','p_p66_p66', 'p_p67_p67_1', 'p_p67_p67_2', 'p_p67_p67_3', 'p_p67_p67_4',\n",
        "       'p_p67_p67_5', 'p_p67_p67_6', 'p_p68_p68', 'p_p69_p69_1', 'p_p69_p69_2',\n",
        "       'p_p69_p69_3', 'p_p69_p69_4', 'p_p69_p69_5',\"Año\"]]\n",
        "\n",
        "dfs[\"df21\"]=dfs[\"df21\"][[\"SECTOR\",'P54', 'P55', 'P56', 'P57A','P57B', 'P57C', 'P57D', 'P57E', 'P57F', 'P57G', 'P57H', 'P58', 'P59','Ao' ]]\n",
        "\n",
        "dfs[\"df22\"]=dfs[\"df22\"][['F3','P56', 'P57', 'P58', 'P59.1','P59.2', 'P59.3', 'P59.4', 'P59.5', 'P59.6', 'P59.7', 'P59.8', 'P59.9','P60', 'P61',\"Año\"]]\n"
      ],
      "metadata": {
        "id": "zeAhSs4MilCY"
      },
      "execution_count": null,
      "outputs": []
    },
    {
      "cell_type": "code",
      "source": [
        "dfs[\"df22\"].rename({\"F3\": \"sector\"}, inplace=True)\n",
        "dfs[\"df21\"].rename({\"SECTOR\": \"sector\", 'Ao':'Año' }, inplace=True)"
      ],
      "metadata": {
        "colab": {
          "base_uri": "https://localhost:8080/"
        },
        "id": "jI3B_AXG5Mog",
        "outputId": "4f8dca86-9583-43df-e849-6cff3a178848"
      },
      "execution_count": null,
      "outputs": [
        {
          "output_type": "stream",
          "name": "stderr",
          "text": [
            "<ipython-input-10-457718ae03f7>:1: SettingWithCopyWarning: \n",
            "A value is trying to be set on a copy of a slice from a DataFrame\n",
            "\n",
            "See the caveats in the documentation: https://pandas.pydata.org/pandas-docs/stable/user_guide/indexing.html#returning-a-view-versus-a-copy\n",
            "  dfs[\"df22\"].rename({\"F3\": \"sector\"}, inplace=True)\n",
            "<ipython-input-10-457718ae03f7>:2: SettingWithCopyWarning: \n",
            "A value is trying to be set on a copy of a slice from a DataFrame\n",
            "\n",
            "See the caveats in the documentation: https://pandas.pydata.org/pandas-docs/stable/user_guide/indexing.html#returning-a-view-versus-a-copy\n",
            "  dfs[\"df21\"].rename({\"SECTOR\": \"sector\", 'Ao':'Año' }, inplace=True)\n"
          ]
        }
      ]
    },
    {
      "cell_type": "code",
      "source": [
        "for name, df in dfs.items():\n",
        "  #x=df.filter(regex=\"^P412\")\n",
        "  print(name)\n",
        "  for column in df.columns:\n",
        "      unique_values = df[column].unique()\n",
        "      print(f\"Valores únicos de la columna {column}: {unique_values}\")"
      ],
      "metadata": {
        "colab": {
          "base_uri": "https://localhost:8080/"
        },
        "id": "qLe9T_75wqPj",
        "outputId": "ddf6f64d-6a14-441e-be3b-fb8fd56270f5"
      },
      "execution_count": null,
      "outputs": [
        {
          "output_type": "stream",
          "name": "stdout",
          "text": [
            "df20\n",
            "Valores únicos de la columna sector: ['AGRICULTURA/MINERIA' 'INDUSTRIAS' 'OTROS SERVICIOS' 'CONSTRUCCION'\n",
            " 'COMERCIO']\n",
            "Valores únicos de la columna p_p64_p64: [3 2 1]\n",
            "Valores únicos de la columna p_p65_p65: [ 1.  3.  2. nan]\n",
            "Valores únicos de la columna p_p66_p66: [2 1]\n",
            "Valores únicos de la columna p_p67_p67_1: [nan  1.  2.]\n",
            "Valores únicos de la columna p_p67_p67_2: [nan  2.  1.]\n",
            "Valores únicos de la columna p_p67_p67_3: [nan  2.  1.]\n",
            "Valores únicos de la columna p_p67_p67_4: [nan  2.  1.]\n",
            "Valores únicos de la columna p_p67_p67_5: [nan  2.  1.]\n",
            "Valores únicos de la columna p_p67_p67_6: [nan  2.  1.]\n",
            "Valores únicos de la columna p_p68_p68: [nan  2.  1.]\n",
            "Valores únicos de la columna p_p69_p69_1: [nan  2.  1.]\n",
            "Valores únicos de la columna p_p69_p69_2: [nan  2.  1.]\n",
            "Valores únicos de la columna p_p69_p69_3: [nan  2.  1.]\n",
            "Valores únicos de la columna p_p69_p69_4: [nan  1.  2.]\n",
            "Valores únicos de la columna p_p69_p69_5: [nan  2.  1.]\n",
            "Valores únicos de la columna Año: [2020]\n",
            "df21\n",
            "Valores únicos de la columna SECTOR: ['Industrias' 'Servicios' 'Comercio' 'Construcci\\x97n']\n",
            "Valores únicos de la columna P54: ['Parcialmente segura' 'Insegura' 'Segura']\n",
            "Valores únicos de la columna P55: ['Aument\\x97' 'Sigui\\x97 igual' 'Disminuy\\x97']\n",
            "Valores únicos de la columna P56: ['Si' 'No']\n",
            "Valores únicos de la columna P57A: ['No' nan 'Si']\n",
            "Valores únicos de la columna P57B: ['No' nan 'Si']\n",
            "Valores únicos de la columna P57C: ['Si' nan 'No']\n",
            "Valores únicos de la columna P57D: ['No' nan 'Si']\n",
            "Valores únicos de la columna P57E: ['No' nan 'Si']\n",
            "Valores únicos de la columna P57F: ['No' nan 'Si']\n",
            "Valores únicos de la columna P57G: ['No' nan 'Si']\n",
            "Valores únicos de la columna P57H: ['No' nan 'Si']\n",
            "Valores únicos de la columna P58: ['Si' nan 'No']\n",
            "Valores únicos de la columna P59: ['Aplicaci\\x97n A Denunciar' nan\n",
            " 'Inspecci\\x97n de polic\\x92a (Estaci\\x97n de Polic\\x92a)'\n",
            " 'URI de la Fiscal\\x92a' 'GAULA'\n",
            " 'Casa de Justicia (Comisar\\x92a de Familia)']\n",
            "Valores únicos de la columna Ao: [2021]\n",
            "df22\n",
            "Valores únicos de la columna F3: [ 3.  1.  2. nan]\n",
            "Valores únicos de la columna P56: [ 3.  2.  1. nan]\n",
            "Valores únicos de la columna P57: [ 1.  3.  2. nan]\n",
            "Valores únicos de la columna P58: [ 2.  1. nan]\n",
            "Valores únicos de la columna P59.1: [nan  2.  1.]\n",
            "Valores únicos de la columna P59.2: [nan  2.  1.]\n",
            "Valores únicos de la columna P59.3: [nan  2.  1.]\n",
            "Valores únicos de la columna P59.4: [nan  2.  1.]\n",
            "Valores únicos de la columna P59.5: [nan  2.  1.]\n",
            "Valores únicos de la columna P59.6: [nan  2.  1.]\n",
            "Valores únicos de la columna P59.7: [nan  2.  1.]\n",
            "Valores únicos de la columna P59.8: [nan  2.  1.]\n",
            "Valores únicos de la columna P59.9: [nan  2.  1.]\n",
            "Valores únicos de la columna P60: [nan  1.  2.]\n",
            "Valores únicos de la columna P61: [nan  3.  1.  4.  2.  5.]\n",
            "Valores únicos de la columna Año: [2022.   nan]\n"
          ]
        }
      ]
    },
    {
      "cell_type": "code",
      "source": [
        "#P54['Parcialmente segura' 'Insegura' 'Segura']\n",
        "#P55: ['Aument\\x97' 'Sigui\\x97 igual' 'Disminuy\\x97']\n",
        "dfs[\"df21\"][\"P54\"]=dfs[\"df21\"][\"P54\"].replace({'Parcialmente segura':2, 'Insegura':3, 'Segura':1})\n",
        "dfs[\"df21\"][\"P55\"]=dfs[\"df21\"][\"P55\"].replace({'Aument\\x97':3, 'Sigui\\x97 igual':2, 'Disminuy\\x97':1})\n",
        "dfs[\"df20\"][\"p_p64_p64\"]=dfs[\"df20\"][\"p_p64_p64\"].replace({3:2, 2:3})\n",
        "dfs[\"df22\"][\"P56\"]=dfs[\"df22\"][\"P56\"].replace({3:2, 2:3})"
      ],
      "metadata": {
        "colab": {
          "base_uri": "https://localhost:8080/"
        },
        "id": "3Tv0OD4_5oUE",
        "outputId": "7e34213e-2b06-4dd1-f049-11ab8fda78bf"
      },
      "execution_count": null,
      "outputs": [
        {
          "output_type": "stream",
          "name": "stderr",
          "text": [
            "<ipython-input-12-3900c7782bc9>:3: SettingWithCopyWarning: \n",
            "A value is trying to be set on a copy of a slice from a DataFrame.\n",
            "Try using .loc[row_indexer,col_indexer] = value instead\n",
            "\n",
            "See the caveats in the documentation: https://pandas.pydata.org/pandas-docs/stable/user_guide/indexing.html#returning-a-view-versus-a-copy\n",
            "  dfs[\"df21\"][\"P54\"]=dfs[\"df21\"][\"P54\"].replace({'Parcialmente segura':2, 'Insegura':3, 'Segura':1})\n",
            "<ipython-input-12-3900c7782bc9>:4: SettingWithCopyWarning: \n",
            "A value is trying to be set on a copy of a slice from a DataFrame.\n",
            "Try using .loc[row_indexer,col_indexer] = value instead\n",
            "\n",
            "See the caveats in the documentation: https://pandas.pydata.org/pandas-docs/stable/user_guide/indexing.html#returning-a-view-versus-a-copy\n",
            "  dfs[\"df21\"][\"P55\"]=dfs[\"df21\"][\"P55\"].replace({'Aument\\x97':3, 'Sigui\\x97 igual':2, 'Disminuy\\x97':1})\n",
            "<ipython-input-12-3900c7782bc9>:5: SettingWithCopyWarning: \n",
            "A value is trying to be set on a copy of a slice from a DataFrame.\n",
            "Try using .loc[row_indexer,col_indexer] = value instead\n",
            "\n",
            "See the caveats in the documentation: https://pandas.pydata.org/pandas-docs/stable/user_guide/indexing.html#returning-a-view-versus-a-copy\n",
            "  dfs[\"df20\"][\"p_p64_p64\"]=dfs[\"df20\"][\"p_p64_p64\"].replace({3:2, 2:3})\n",
            "<ipython-input-12-3900c7782bc9>:6: SettingWithCopyWarning: \n",
            "A value is trying to be set on a copy of a slice from a DataFrame.\n",
            "Try using .loc[row_indexer,col_indexer] = value instead\n",
            "\n",
            "See the caveats in the documentation: https://pandas.pydata.org/pandas-docs/stable/user_guide/indexing.html#returning-a-view-versus-a-copy\n",
            "  dfs[\"df22\"][\"P56\"]=dfs[\"df22\"][\"P56\"].replace({3:2, 2:3})\n"
          ]
        }
      ]
    },
    {
      "cell_type": "code",
      "source": [
        "#P59: ['Aplicaci\\x97n A Denunciar' nan 'Inspecci\\x97n de polic\\x92a (Estaci\\x97n de Polic\\x92a)'\n",
        " #'URI de la Fiscal\\x92a' 'GAULA'\n",
        " #'Casa de Justicia (Comisar\\x92a de Familia)']\n",
        "reemplazo = {\n",
        "    '5. Muy buena': '5',\n",
        "    '4. Buena': '4',\n",
        "    '3. Ni bueno ni mal': '3',\n",
        "    '1. Muy Mala': '1',\n",
        "    '2. Mala': '2',\n",
        "}\n",
        "\n",
        "x = dfs[\"df20\"].filter(regex=\"^P308\", axis=1)\n",
        "for column in x.columns:\n",
        "    dfs[\"df20\"][column] = dfs[\"df20\"][column].replace(reemplazo)\n",
        "\n",
        "# Verifica que los valores se hayan reemplazado correctamente\n",
        "for column in x.columns:\n",
        "    print(f\"Valores únicos de la columna {column}: {dfs['df20'][column].unique()}\")"
      ],
      "metadata": {
        "id": "olE7ddDN6dM5"
      },
      "execution_count": null,
      "outputs": []
    },
    {
      "cell_type": "code",
      "source": [
        "for name, df in dfs.items():\n",
        "  for col in df.columns:\n",
        "    df[col]=df[col].replace({\"Si\":1, \"No\":2})"
      ],
      "metadata": {
        "colab": {
          "base_uri": "https://localhost:8080/"
        },
        "id": "1KTaN22cyDjY",
        "outputId": "785caf70-e818-4421-f74d-cb0a34fc8c2d"
      },
      "execution_count": null,
      "outputs": [
        {
          "output_type": "stream",
          "name": "stderr",
          "text": [
            "<ipython-input-14-82977f0a6dbb>:3: SettingWithCopyWarning: \n",
            "A value is trying to be set on a copy of a slice from a DataFrame.\n",
            "Try using .loc[row_indexer,col_indexer] = value instead\n",
            "\n",
            "See the caveats in the documentation: https://pandas.pydata.org/pandas-docs/stable/user_guide/indexing.html#returning-a-view-versus-a-copy\n",
            "  df[col]=df[col].replace({\"Si\":1, \"No\":2})\n"
          ]
        }
      ]
    },
    {
      "cell_type": "code",
      "source": [
        "\"\"\"\n",
        "1: aplicación a denunciar\n",
        "2: Casa de justicia (comisaría de familia)\n",
        "3: Inspección de policía(estación de Policía)\n",
        "4: URI de la fiscalía\n",
        "5: Gaula\n",
        "\"\"\""
      ],
      "metadata": {
        "colab": {
          "base_uri": "https://localhost:8080/"
        },
        "id": "kZUy2Asww9Qj",
        "outputId": "199b4c94-040d-49ca-8363-a9752469e250"
      },
      "execution_count": null,
      "outputs": [
        {
          "output_type": "execute_result",
          "data": {
            "text/plain": [
              "'\\n1: aplicación a denunciar\\n2: Casa de justicia (comisaría de familia)\\n3: Inspección de policía(estación de Policía)\\n4: URI de la fiscalía\\n5: Gaula\\n'"
            ],
            "application/vnd.google.colaboratory.intrinsic+json": {
              "type": "string"
            }
          },
          "metadata": {},
          "execution_count": 15
        }
      ]
    },
    {
      "cell_type": "code",
      "source": [
        "#dfs[\"df21\"]=letras_a_num(dfs[\"df21\"],\"P57\")"
      ],
      "metadata": {
        "id": "QpEF2HX8vp3r"
      },
      "execution_count": null,
      "outputs": []
    },
    {
      "cell_type": "markdown",
      "source": [
        "#reemplazo"
      ],
      "metadata": {
        "id": "dUr7Wddo5dzQ"
      }
    },
    {
      "cell_type": "code",
      "source": [
        "x=['p_p67_p67_1', 'p_p67_p67_2', 'p_p67_p67_3', 'p_p67_p67_4','p_p67_p67_5', 'p_p67_p67_6']\n",
        "for y in x:\n",
        "  dfs[\"df20\"][y]=dfs[\"df20\"][y].replace({2:0})"
      ],
      "metadata": {
        "colab": {
          "base_uri": "https://localhost:8080/"
        },
        "id": "DWjZxVMO-Fm2",
        "outputId": "f47e9d0a-1bbb-4ed4-a1f5-cd6acdd11673"
      },
      "execution_count": null,
      "outputs": [
        {
          "output_type": "stream",
          "name": "stderr",
          "text": [
            "<ipython-input-17-e200603cf0a5>:3: SettingWithCopyWarning: \n",
            "A value is trying to be set on a copy of a slice from a DataFrame.\n",
            "Try using .loc[row_indexer,col_indexer] = value instead\n",
            "\n",
            "See the caveats in the documentation: https://pandas.pydata.org/pandas-docs/stable/user_guide/indexing.html#returning-a-view-versus-a-copy\n",
            "  dfs[\"df20\"][y]=dfs[\"df20\"][y].replace({2:0})\n"
          ]
        }
      ]
    },
    {
      "cell_type": "code",
      "source": [
        "x=['P57A','P57B', 'P57C', 'P57D', 'P57E', 'P57F', 'P57G', 'P57H']\n",
        "for y in x:\n",
        "  dfs[\"df21\"][y]=dfs[\"df21\"][y].replace({2:0})"
      ],
      "metadata": {
        "colab": {
          "base_uri": "https://localhost:8080/"
        },
        "id": "XIqw7agL-NU-",
        "outputId": "b44551f7-396c-499a-c1e2-51db63fc2869"
      },
      "execution_count": null,
      "outputs": [
        {
          "output_type": "stream",
          "name": "stderr",
          "text": [
            "<ipython-input-18-0a2e0616caca>:3: SettingWithCopyWarning: \n",
            "A value is trying to be set on a copy of a slice from a DataFrame.\n",
            "Try using .loc[row_indexer,col_indexer] = value instead\n",
            "\n",
            "See the caveats in the documentation: https://pandas.pydata.org/pandas-docs/stable/user_guide/indexing.html#returning-a-view-versus-a-copy\n",
            "  dfs[\"df21\"][y]=dfs[\"df21\"][y].replace({2:0})\n"
          ]
        }
      ]
    },
    {
      "cell_type": "code",
      "source": [
        "x=['P59.1','P59.2', 'P59.3', 'P59.4', 'P59.5', 'P59.6', 'P59.7', 'P59.8', 'P59.9']\n",
        "for y in x:\n",
        "  dfs[\"df22\"][y]=dfs[\"df22\"][y].replace({2:0})"
      ],
      "metadata": {
        "colab": {
          "base_uri": "https://localhost:8080/"
        },
        "id": "-DJUMZmp-g1Y",
        "outputId": "bc62f62c-4ab6-417d-d83d-f39a3a48aa82"
      },
      "execution_count": null,
      "outputs": [
        {
          "output_type": "stream",
          "name": "stderr",
          "text": [
            "<ipython-input-19-34ad51f7ae8e>:3: SettingWithCopyWarning: \n",
            "A value is trying to be set on a copy of a slice from a DataFrame.\n",
            "Try using .loc[row_indexer,col_indexer] = value instead\n",
            "\n",
            "See the caveats in the documentation: https://pandas.pydata.org/pandas-docs/stable/user_guide/indexing.html#returning-a-view-versus-a-copy\n",
            "  dfs[\"df22\"][y]=dfs[\"df22\"][y].replace({2:0})\n"
          ]
        }
      ]
    },
    {
      "cell_type": "code",
      "source": [
        "dfs[\"df20\"][\"P59\"]=dfs[\"df20\"][['p_p67_p67_1', 'p_p67_p67_2', 'p_p67_p67_3', 'p_p67_p67_4','p_p67_p67_5', 'p_p67_p67_6']].sum(axis=1)\n",
        "dfs[\"df21\"][\"P59\"]=dfs[\"df21\"][['P57A','P57B', 'P57C', 'P57D', 'P57E', 'P57F', 'P57G', 'P57H']].sum(axis=1)\n",
        "dfs[\"df22\"][\"P59\"]=dfs[\"df22\"][['P59.1','P59.2', 'P59.3', 'P59.4', 'P59.5', 'P59.6', 'P59.7', 'P59.8', 'P59.9']].sum(axis=1)"
      ],
      "metadata": {
        "id": "1MXx8Puhq-gf",
        "colab": {
          "base_uri": "https://localhost:8080/"
        },
        "outputId": "a9b36460-4fd3-4eac-9da3-4c4b2dcda596"
      },
      "execution_count": null,
      "outputs": [
        {
          "output_type": "stream",
          "name": "stderr",
          "text": [
            "<ipython-input-20-60a940659571>:1: SettingWithCopyWarning: \n",
            "A value is trying to be set on a copy of a slice from a DataFrame.\n",
            "Try using .loc[row_indexer,col_indexer] = value instead\n",
            "\n",
            "See the caveats in the documentation: https://pandas.pydata.org/pandas-docs/stable/user_guide/indexing.html#returning-a-view-versus-a-copy\n",
            "  dfs[\"df20\"][\"P59\"]=dfs[\"df20\"][['p_p67_p67_1', 'p_p67_p67_2', 'p_p67_p67_3', 'p_p67_p67_4','p_p67_p67_5', 'p_p67_p67_6']].sum(axis=1)\n",
            "<ipython-input-20-60a940659571>:2: SettingWithCopyWarning: \n",
            "A value is trying to be set on a copy of a slice from a DataFrame.\n",
            "Try using .loc[row_indexer,col_indexer] = value instead\n",
            "\n",
            "See the caveats in the documentation: https://pandas.pydata.org/pandas-docs/stable/user_guide/indexing.html#returning-a-view-versus-a-copy\n",
            "  dfs[\"df21\"][\"P59\"]=dfs[\"df21\"][['P57A','P57B', 'P57C', 'P57D', 'P57E', 'P57F', 'P57G', 'P57H']].sum(axis=1)\n",
            "<ipython-input-20-60a940659571>:3: SettingWithCopyWarning: \n",
            "A value is trying to be set on a copy of a slice from a DataFrame.\n",
            "Try using .loc[row_indexer,col_indexer] = value instead\n",
            "\n",
            "See the caveats in the documentation: https://pandas.pydata.org/pandas-docs/stable/user_guide/indexing.html#returning-a-view-versus-a-copy\n",
            "  dfs[\"df22\"][\"P59\"]=dfs[\"df22\"][['P59.1','P59.2', 'P59.3', 'P59.4', 'P59.5', 'P59.6', 'P59.7', 'P59.8', 'P59.9']].sum(axis=1)\n"
          ]
        }
      ]
    },
    {
      "cell_type": "code",
      "source": [
        "# p54-p59 ->p56-61\n",
        "\n",
        "dfs[\"df21\"].rename(columns={\"P56\":\"P58\"}, inplace=True)\n",
        "dfs[\"df21\"].rename(columns={\"P54\":\"P56\"}, inplace=True)\n",
        "dfs[\"df20\"].rename(columns={\"p_p64_p64\":\"P56\"}, inplace=True)\n",
        "dfs[\"df21\"].rename(columns={\"P55\":\"P57\"}, inplace=True)\n",
        "dfs[\"df20\"].rename(columns={\"p_p65_p65\":\"P57\"}, inplace=True)\n",
        "\n",
        "dfs[\"df21\"].rename(columns={\"P58\":\"P60\"}, inplace=True)\n",
        "dfs[\"df20\"].rename(columns={\"p_p68_p68\":\"P60\"}, inplace=True)"
      ],
      "metadata": {
        "colab": {
          "base_uri": "https://localhost:8080/"
        },
        "id": "z7fd-yRu6Qrg",
        "outputId": "038b6208-3978-4ef3-b816-56abefde5d8f"
      },
      "execution_count": null,
      "outputs": [
        {
          "output_type": "stream",
          "name": "stderr",
          "text": [
            "<ipython-input-21-11e9a1807b08>:3: SettingWithCopyWarning: \n",
            "A value is trying to be set on a copy of a slice from a DataFrame\n",
            "\n",
            "See the caveats in the documentation: https://pandas.pydata.org/pandas-docs/stable/user_guide/indexing.html#returning-a-view-versus-a-copy\n",
            "  dfs[\"df21\"].rename(columns={\"P56\":\"P58\"}, inplace=True)\n",
            "<ipython-input-21-11e9a1807b08>:4: SettingWithCopyWarning: \n",
            "A value is trying to be set on a copy of a slice from a DataFrame\n",
            "\n",
            "See the caveats in the documentation: https://pandas.pydata.org/pandas-docs/stable/user_guide/indexing.html#returning-a-view-versus-a-copy\n",
            "  dfs[\"df21\"].rename(columns={\"P54\":\"P56\"}, inplace=True)\n",
            "<ipython-input-21-11e9a1807b08>:5: SettingWithCopyWarning: \n",
            "A value is trying to be set on a copy of a slice from a DataFrame\n",
            "\n",
            "See the caveats in the documentation: https://pandas.pydata.org/pandas-docs/stable/user_guide/indexing.html#returning-a-view-versus-a-copy\n",
            "  dfs[\"df20\"].rename(columns={\"p_p64_p64\":\"P56\"}, inplace=True)\n",
            "<ipython-input-21-11e9a1807b08>:6: SettingWithCopyWarning: \n",
            "A value is trying to be set on a copy of a slice from a DataFrame\n",
            "\n",
            "See the caveats in the documentation: https://pandas.pydata.org/pandas-docs/stable/user_guide/indexing.html#returning-a-view-versus-a-copy\n",
            "  dfs[\"df21\"].rename(columns={\"P55\":\"P57\"}, inplace=True)\n",
            "<ipython-input-21-11e9a1807b08>:7: SettingWithCopyWarning: \n",
            "A value is trying to be set on a copy of a slice from a DataFrame\n",
            "\n",
            "See the caveats in the documentation: https://pandas.pydata.org/pandas-docs/stable/user_guide/indexing.html#returning-a-view-versus-a-copy\n",
            "  dfs[\"df20\"].rename(columns={\"p_p65_p65\":\"P57\"}, inplace=True)\n",
            "<ipython-input-21-11e9a1807b08>:9: SettingWithCopyWarning: \n",
            "A value is trying to be set on a copy of a slice from a DataFrame\n",
            "\n",
            "See the caveats in the documentation: https://pandas.pydata.org/pandas-docs/stable/user_guide/indexing.html#returning-a-view-versus-a-copy\n",
            "  dfs[\"df21\"].rename(columns={\"P58\":\"P60\"}, inplace=True)\n",
            "<ipython-input-21-11e9a1807b08>:10: SettingWithCopyWarning: \n",
            "A value is trying to be set on a copy of a slice from a DataFrame\n",
            "\n",
            "See the caveats in the documentation: https://pandas.pydata.org/pandas-docs/stable/user_guide/indexing.html#returning-a-view-versus-a-copy\n",
            "  dfs[\"df20\"].rename(columns={\"p_p68_p68\":\"P60\"}, inplace=True)\n"
          ]
        }
      ]
    },
    {
      "cell_type": "code",
      "source": [
        "for name, df in dfs.items():\n",
        "  print(name,df.columns)"
      ],
      "metadata": {
        "colab": {
          "base_uri": "https://localhost:8080/"
        },
        "id": "BzQzvS5xD3oV",
        "outputId": "44fd80f1-2147-44d0-fa5e-8329a12b6586"
      },
      "execution_count": null,
      "outputs": [
        {
          "output_type": "stream",
          "name": "stdout",
          "text": [
            "df20 Index(['sector', 'P56', 'P57', 'p_p66_p66', 'p_p67_p67_1', 'p_p67_p67_2',\n",
            "       'p_p67_p67_3', 'p_p67_p67_4', 'p_p67_p67_5', 'p_p67_p67_6', 'P60',\n",
            "       'p_p69_p69_1', 'p_p69_p69_2', 'p_p69_p69_3', 'p_p69_p69_4',\n",
            "       'p_p69_p69_5', 'Año', 'P59'],\n",
            "      dtype='object')\n",
            "df21 Index(['SECTOR', 'P56', 'P57', 'P60', 'P57A', 'P57B', 'P57C', 'P57D', 'P57E',\n",
            "       'P57F', 'P57G', 'P57H', 'P60', 'P59', 'Ao'],\n",
            "      dtype='object')\n",
            "df22 Index(['F3', 'P56', 'P57', 'P58', 'P59.1', 'P59.2', 'P59.3', 'P59.4', 'P59.5',\n",
            "       'P59.6', 'P59.7', 'P59.8', 'P59.9', 'P60', 'P61', 'Año', 'P59'],\n",
            "      dtype='object')\n"
          ]
        }
      ]
    },
    {
      "cell_type": "markdown",
      "source": [
        "#Taza denuncia"
      ],
      "metadata": {
        "id": "I7FJF-h4C431"
      }
    },
    {
      "cell_type": "code",
      "source": [
        "Taza_denuncia=[]\n",
        "for name, df in dfs.items():\n",
        "  Taza_denuncia.append(df[\"P59\"].mean(axis=0)/df[\"P60\"].mean(axis=0))"
      ],
      "metadata": {
        "id": "8RgcefO7Ato7"
      },
      "execution_count": null,
      "outputs": []
    },
    {
      "cell_type": "markdown",
      "source": [
        "#subIndicador:"
      ],
      "metadata": {
        "id": "eiD-JtfJE4Dl"
      }
    },
    {
      "cell_type": "code",
      "source": [
        "!pip install ahpy"
      ],
      "metadata": {
        "colab": {
          "base_uri": "https://localhost:8080/"
        },
        "id": "Ey7PnQ7uE59N",
        "outputId": "0a69ecc7-53a6-491d-9413-83439e222018"
      },
      "execution_count": null,
      "outputs": [
        {
          "output_type": "stream",
          "name": "stdout",
          "text": [
            "Collecting ahpy\n",
            "  Downloading ahpy-2.0-py3-none-any.whl (21 kB)\n",
            "Requirement already satisfied: numpy in /usr/local/lib/python3.10/dist-packages (from ahpy) (1.25.2)\n",
            "Requirement already satisfied: scipy in /usr/local/lib/python3.10/dist-packages (from ahpy) (1.11.4)\n",
            "Installing collected packages: ahpy\n",
            "Successfully installed ahpy-2.0\n"
          ]
        }
      ]
    },
    {
      "cell_type": "code",
      "source": [
        "meanP56=[]\n",
        "meanP57=[]\n",
        "for name, df in dfs.items():\n",
        "  meanP56.append(df[\"P56\"].mean(axis=0))\n",
        "  meanP57.append(df[\"P56\"].mean(axis=0))"
      ],
      "metadata": {
        "id": "-A7C3niVmLeT"
      },
      "execution_count": null,
      "outputs": []
    },
    {
      "cell_type": "code",
      "source": [
        "meanP56"
      ],
      "metadata": {
        "colab": {
          "base_uri": "https://localhost:8080/"
        },
        "id": "nZ3dNU4QSFCD",
        "outputId": "a305228e-4e3c-4dd8-9c9a-f1b6216e0be2"
      },
      "execution_count": null,
      "outputs": [
        {
          "output_type": "execute_result",
          "data": {
            "text/plain": [
              "[2.574065736154885, 2.667614983404457, 2.63016157989228]"
            ]
          },
          "metadata": {},
          "execution_count": 26
        }
      ]
    },
    {
      "cell_type": "code",
      "source": [
        "meanP57"
      ],
      "metadata": {
        "colab": {
          "base_uri": "https://localhost:8080/"
        },
        "id": "lP01ZwdWStep",
        "outputId": "8a8232e2-066c-4dfe-e66b-2295e0e8a139"
      },
      "execution_count": null,
      "outputs": [
        {
          "output_type": "execute_result",
          "data": {
            "text/plain": [
              "[2.574065736154885, 2.667614983404457, 2.63016157989228]"
            ]
          },
          "metadata": {},
          "execution_count": 27
        }
      ]
    },
    {
      "cell_type": "code",
      "source": [
        "from ahpy import ahpy\n",
        "#[\"P401\", \"P421\", \"P412\", \"P449\", \"P308\",\"P450\"]\n",
        "perc = {('P56', 'P57'): 2}\n",
        "\n",
        "empre = ahpy.Compare(name='percep', comparisons=perc, precision=3, random_index='saaty')\n",
        "\n",
        "print(empre.target_weights)\n",
        "\n",
        "\n",
        "print(empre.consistency_ratio)\n"
      ],
      "metadata": {
        "colab": {
          "base_uri": "https://localhost:8080/"
        },
        "id": "iEjZh4sJHE12",
        "outputId": "4ab0cd56-69b2-4c1f-ab6d-14b6e5a1f55d"
      },
      "execution_count": null,
      "outputs": [
        {
          "output_type": "stream",
          "name": "stdout",
          "text": [
            "{'P56': 0.667, 'P57': 0.333}\n",
            "0.0\n"
          ]
        }
      ]
    },
    {
      "cell_type": "code",
      "source": [
        "opinion_entes_justicia=[]\n",
        "for i in range(len(meanP56)):  # Iterar sobre el índice para acceder a los elementos\n",
        "    dff_P56 = meanP56[i] * 0.667\n",
        "    dff_P57 = meanP57[i] * 0.333\n",
        "    opinion_entes_justicia.append(dff_P56 + dff_P57)\n"
      ],
      "metadata": {
        "id": "cKh-_eVrl2v4"
      },
      "execution_count": null,
      "outputs": []
    },
    {
      "cell_type": "code",
      "source": [
        "opinion_entes_justicia"
      ],
      "metadata": {
        "colab": {
          "base_uri": "https://localhost:8080/"
        },
        "id": "RU6TJ3j9SBss",
        "outputId": "fe15475f-a330-4bf3-f10c-272710f2501b"
      },
      "execution_count": null,
      "outputs": [
        {
          "output_type": "execute_result",
          "data": {
            "text/plain": [
              "[2.5740657361548855, 2.667614983404457, 2.63016157989228]"
            ]
          },
          "metadata": {},
          "execution_count": 30
        }
      ]
    },
    {
      "cell_type": "code",
      "source": [
        "mean_Taza_denuncia = sum(Taza_denuncia) / len(Taza_denuncia)\n",
        "mean_opinion_entes_justicia = sum(opinion_entes_justicia) / len(opinion_entes_justicia)\n",
        "\n",
        "covariance = sum((a - mean_Taza_denuncia) * (b - mean_opinion_entes_justicia) for (a,b) in zip(Taza_denuncia, opinion_entes_justicia)) / len(Taza_denuncia)\n",
        "\n",
        "print(\"Covarianza:\", covariance)\n"
      ],
      "metadata": {
        "colab": {
          "base_uri": "https://localhost:8080/"
        },
        "id": "RAk3iuDHLll0",
        "outputId": "17bc9620-114e-4f0b-c022-45e1ae32d796"
      },
      "execution_count": null,
      "outputs": [
        {
          "output_type": "stream",
          "name": "stdout",
          "text": [
            "Covarianza: P60    0.000054\n",
            "P60    0.000964\n",
            "dtype: float64\n"
          ]
        }
      ]
    },
    {
      "cell_type": "code",
      "source": [
        "for name, df in dfs.items():\n",
        "    df['percep_empresarial'] = 0\n",
        "    for col, weight in empre.target_weights.items():\n",
        "        if col in df.columns:\n",
        "            df['percep_empresarial'] += df[col].astype(float) * weight\n"
      ],
      "metadata": {
        "colab": {
          "base_uri": "https://localhost:8080/"
        },
        "id": "8CzuaE_gIA4g",
        "outputId": "a674c529-1def-42e7-987f-9ff791d43538"
      },
      "execution_count": null,
      "outputs": [
        {
          "output_type": "stream",
          "name": "stderr",
          "text": [
            "<ipython-input-32-380be30bd15a>:2: SettingWithCopyWarning: \n",
            "A value is trying to be set on a copy of a slice from a DataFrame.\n",
            "Try using .loc[row_indexer,col_indexer] = value instead\n",
            "\n",
            "See the caveats in the documentation: https://pandas.pydata.org/pandas-docs/stable/user_guide/indexing.html#returning-a-view-versus-a-copy\n",
            "  df['percep_empresarial'] = 0\n",
            "<ipython-input-32-380be30bd15a>:5: SettingWithCopyWarning: \n",
            "A value is trying to be set on a copy of a slice from a DataFrame.\n",
            "Try using .loc[row_indexer,col_indexer] = value instead\n",
            "\n",
            "See the caveats in the documentation: https://pandas.pydata.org/pandas-docs/stable/user_guide/indexing.html#returning-a-view-versus-a-copy\n",
            "  df['percep_empresarial'] += df[col].astype(float) * weight\n",
            "<ipython-input-32-380be30bd15a>:2: SettingWithCopyWarning: \n",
            "A value is trying to be set on a copy of a slice from a DataFrame.\n",
            "Try using .loc[row_indexer,col_indexer] = value instead\n",
            "\n",
            "See the caveats in the documentation: https://pandas.pydata.org/pandas-docs/stable/user_guide/indexing.html#returning-a-view-versus-a-copy\n",
            "  df['percep_empresarial'] = 0\n",
            "<ipython-input-32-380be30bd15a>:5: SettingWithCopyWarning: \n",
            "A value is trying to be set on a copy of a slice from a DataFrame.\n",
            "Try using .loc[row_indexer,col_indexer] = value instead\n",
            "\n",
            "See the caveats in the documentation: https://pandas.pydata.org/pandas-docs/stable/user_guide/indexing.html#returning-a-view-versus-a-copy\n",
            "  df['percep_empresarial'] += df[col].astype(float) * weight\n",
            "<ipython-input-32-380be30bd15a>:5: SettingWithCopyWarning: \n",
            "A value is trying to be set on a copy of a slice from a DataFrame.\n",
            "Try using .loc[row_indexer,col_indexer] = value instead\n",
            "\n",
            "See the caveats in the documentation: https://pandas.pydata.org/pandas-docs/stable/user_guide/indexing.html#returning-a-view-versus-a-copy\n",
            "  df['percep_empresarial'] += df[col].astype(float) * weight\n",
            "<ipython-input-32-380be30bd15a>:2: SettingWithCopyWarning: \n",
            "A value is trying to be set on a copy of a slice from a DataFrame.\n",
            "Try using .loc[row_indexer,col_indexer] = value instead\n",
            "\n",
            "See the caveats in the documentation: https://pandas.pydata.org/pandas-docs/stable/user_guide/indexing.html#returning-a-view-versus-a-copy\n",
            "  df['percep_empresarial'] = 0\n",
            "<ipython-input-32-380be30bd15a>:5: SettingWithCopyWarning: \n",
            "A value is trying to be set on a copy of a slice from a DataFrame.\n",
            "Try using .loc[row_indexer,col_indexer] = value instead\n",
            "\n",
            "See the caveats in the documentation: https://pandas.pydata.org/pandas-docs/stable/user_guide/indexing.html#returning-a-view-versus-a-copy\n",
            "  df['percep_empresarial'] += df[col].astype(float) * weight\n"
          ]
        }
      ]
    },
    {
      "cell_type": "markdown",
      "source": [
        "#Relación dos puntos"
      ],
      "metadata": {
        "id": "ftLrwfL9Rdn9"
      }
    },
    {
      "cell_type": "markdown",
      "source": [
        "Al analizar las medias de estos dos subindicadores en este notebook, podemos dirigirnos al notebook de EPV"
      ],
      "metadata": {
        "id": "t1EbnXRK5-jC"
      }
    }
  ]
}